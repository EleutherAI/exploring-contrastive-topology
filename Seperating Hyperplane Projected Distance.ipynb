{
 "cells": [
  {
   "cell_type": "code",
   "execution_count": 1,
   "id": "6e7fa90b",
   "metadata": {},
   "outputs": [],
   "source": [
    "import numpy as np\n",
    "from matplotlib import pyplot as plt\n",
    "import sklearn.svm"
   ]
  },
  {
   "cell_type": "code",
   "execution_count": 2,
   "id": "f6d06667",
   "metadata": {},
   "outputs": [],
   "source": [
    "models = {\n",
    "    'openclip ViT-B-16': dict(img_embeds=np.load('clip-embeddings/coco-embeds-open-clip-vit-b-16/img_emb/img_emb_0.npy'),\n",
    "                              text_embeds=np.load('clip-embeddings/coco-embeds-open-clip-vit-b-16/text_emb/text_emb_0.npy')),\n",
    "    \n",
    "    'openclip ViT-B-32': dict(img_embeds=np.load('clip-embeddings/coco-embeds-open-clip-vit-b-32/img_emb/img_emb_0.npy'),\n",
    "                              text_embeds=np.load('clip-embeddings/coco-embeds-open-clip-vit-b-32/text_emb/text_emb_0.npy')),\n",
    "\n",
    "    'cloob ViT-B-16': dict(img_embeds=np.load('clip-embeddings/cloob-vit-b-16/cloob_laion_400m_vit_b_16_32_epochs_coco_train2017_image_embeds.npy'),\n",
    "                           text_embeds=np.load('clip-embeddings/cloob-vit-b-16/cloob_laion_400m_vit_b_16_32_epochs_coco_train2017_text_embeds.npy')),\n",
    "    \n",
    "    'ml_jku_cloob_infoNCE': dict(img_embeds=np.load(\"clip-embeddings/ml_jku_cloob_embeddings/cloob_infoNCE_rn50_cc_epoch_128_image_embeds.npy\"),\n",
    "                            text_embeds=np.load(\"clip-embeddings/ml_jku_cloob_embeddings/cloob_infoNCE_rn50_cc_epoch_128_text_embeds.npy\")),\n",
    "\n",
    "    'ml_jku_clip_rn50': dict(img_embeds=np.load(\"clip-embeddings/ml_jku_cloob_embeddings/clip30_rn50_cc_epoch_128_image_embeds.npy\"),\n",
    "                        text_embeds=np.load(\"clip-embeddings/ml_jku_cloob_embeddings/clip30_rn50_cc_epoch_128_text_embeds.npy\")),\n",
    "\n",
    "    'ml_jku_clip_infoLOOB': dict(img_embeds=np.load(\"clip-embeddings/ml_jku_cloob_embeddings/clip_infoLOOB_rn50_cc_epoch_128_image_embeds.npy\"),\n",
    "                            text_embeds=np.load(\"clip-embeddings/ml_jku_cloob_embeddings/clip_infoLOOB_rn50_cc_epoch_128_text_embeds.npy\")),\n",
    "\n",
    "    'ml_jku_cloob_rn50': dict(img_embeds=np.load(\"clip-embeddings/ml_jku_cloob_embeddings/cloob_rn50_cc_epoch_128_image_embeds.npy\"),\n",
    "                         text_embeds=np.load(\"clip-embeddings/ml_jku_cloob_embeddings/cloob_rn50_cc_epoch_128_text_embeds.npy\")),\n",
    "\n",
    "}"
   ]
  },
  {
   "cell_type": "code",
   "execution_count": 3,
   "id": "4a368cf9",
   "metadata": {},
   "outputs": [
    {
     "name": "stderr",
     "output_type": "stream",
     "text": [
      "100%|█████████████████████████████████████████████████████████████████████████████████████████████████| 7/7 [01:25<00:00, 12.23s/it]\n"
     ]
    }
   ],
   "source": [
    "\n",
    "def projected_dist(img_embed, text_embed):\n",
    "\n",
    "    X = np.concatenate([img_embed, text_embed])\n",
    "    y = np.concatenate([np.zeros(len(img_embed)), np.ones(len(text_embed))])\n",
    "    xm, xstd = X.mean(axis=0), X.std(axis=0)\n",
    "    \n",
    "    svm = sklearn.svm.LinearSVC()\n",
    "    svm.fit(X, y)\n",
    "    \n",
    "    \n",
    "    w_norm = np.linalg.norm(svm.coef_)\n",
    "    hyperplane_normal = svm.coef_ / w_norm\n",
    "    projected = X - ((svm.decision_function(X)[:, None] / w_norm) - svm.intercept_) * hyperplane_normal\n",
    "\n",
    "    projected_dist = np.linalg.norm(projected[:len(img_embed)] - projected[len(text_embed):], axis=-1)\n",
    "    return projected_dist.mean(), projected_dist.std()\n",
    "\n",
    "import seaborn\n",
    "from tqdm import tqdm\n",
    "import pandas\n",
    "\n",
    "results = pandas.DataFrame([\n",
    "    {\"name\": name, \"projected_dist\": projected_dist(model[\"img_embeds\"], model[\"text_embeds\"])[0] }\n",
    "    for model, name in tqdm([(models['openclip ViT-B-32'], \"CLIP ViT-B/32\"),\n",
    "                     (models['openclip ViT-B-16'], \"CLIP ViT-B/16\"),\n",
    "                     (models['cloob ViT-B-16'], \"CLOOB ViT-B/16\"),\n",
    "                     (models['ml_jku_cloob_infoNCE'], \"CLOOB infoNCE RN50\"),\n",
    "                     (models['ml_jku_clip_rn50'], \"CLIP RN50\"),\n",
    "                     (models['ml_jku_clip_infoLOOB'], \"CLIP infoLOOB RN50\"),\n",
    "                     (models['ml_jku_cloob_rn50'], \"CLOOB RN50\")])\n",
    "])\n",
    "\n"
   ]
  },
  {
   "cell_type": "code",
   "execution_count": 5,
   "id": "f3a38e36-ca8f-44b5-a661-ccbd0b961c20",
   "metadata": {},
   "outputs": [],
   "source": [
    "from matplotlib import rc\n",
    "\n",
    "rc('font', **{'family': 'serif', 'serif': ['Computer Modern']})\n",
    "rc('text', usetex=True)"
   ]
  },
  {
   "cell_type": "code",
   "execution_count": null,
   "id": "b92deeaa",
   "metadata": {},
   "outputs": [
    {
     "data": {
      "text/plain": [
       "<AxesSubplot:xlabel='name', ylabel='projected_dist'>"
      ]
     },
     "execution_count": 6,
     "metadata": {},
     "output_type": "execute_result"
    }
   ],
   "source": [
    "plt.figure(figsize=(20, 5), facecolor=\"white\")\n",
    "seaborn.barplot(data=results, x=\"name\", y=\"projected_dist\")"
   ]
  },
  {
   "cell_type": "code",
   "execution_count": null,
   "id": "8d6aeda6",
   "metadata": {},
   "outputs": [],
   "source": []
  }
 ],
 "metadata": {
  "kernelspec": {
   "display_name": "Python 3 (ipykernel)",
   "language": "python",
   "name": "python3"
  },
  "language_info": {
   "codemirror_mode": {
    "name": "ipython",
    "version": 3
   },
   "file_extension": ".py",
   "mimetype": "text/x-python",
   "name": "python",
   "nbconvert_exporter": "python",
   "pygments_lexer": "ipython3",
   "version": "3.9.10"
  }
 },
 "nbformat": 4,
 "nbformat_minor": 5
}
