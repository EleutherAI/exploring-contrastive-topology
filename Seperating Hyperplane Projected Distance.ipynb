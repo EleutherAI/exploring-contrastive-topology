{
 "cells": [
  {
   "cell_type": "code",
   "execution_count": 1,
   "id": "3c9e484a",
   "metadata": {},
   "outputs": [],
   "source": [
    "from umap import UMAP\n",
    "import umap.plot\n",
    "\n",
    "import numpy as np\n",
    "from sklearn.decomposition import PCA\n",
    "from matplotlib import pyplot as plt\n",
    "import sklearn.svm"
   ]
  },
  {
   "cell_type": "code",
   "execution_count": 2,
   "id": "11557020",
   "metadata": {},
   "outputs": [],
   "source": [
    "clip_alstro = dict(img_embeds=np.load(\"../coco_train2017_image_embeds.npy\"),\n",
    "                  text_embeds=np.load(\"../coco_train2017_text_embeds.npy\"))\n",
    "\n",
    "blip = dict(img_embeds=np.load(\"./blips/blip_image_embeds.npy\"),\n",
    "            text_embeds=np.load(\"./blips/blip_text_embeds.npy\"))\n",
    "\n",
    "# blip_large = dict(img_embeds=np.load(\"./blips/blip_large_image_embeds.npy\"),\n",
    "#             text_embeds=np.load(\"./blips/blip_large_text_embeds.npy\"))\n",
    "\n",
    "clip_vit_b_32 = dict(img_embeds=np.load(\"../coco-embeds-ViT-B-32/img_emb/img_emb_0.npy\"),\n",
    "                     text_embeds=np.load(\"../coco-embeds-ViT-B-32/text_emb/text_emb_0.npy\"))\n",
    "\n",
    "clip_vit_b_16 = dict(img_embeds=np.load(\"../coco-embeds-ViT-B-16/img_emb/img_emb_0.npy\"),\n",
    "                     text_embeds=np.load(\"../coco-embeds-ViT-B-16/text_emb/text_emb_0.npy\"))\n",
    "\n",
    "clip_vit_l_14 = dict(img_embeds=np.load(\"../coco-embeds-ViT-L-14/img_emb/img_emb_0.npy\"),\n",
    "                     text_embeds=np.load(\"../coco-embeds-ViT-L-14/text_emb/text_emb_0.npy\"))\n",
    "\n",
    "cloob_vit_b_16 = dict(img_embeds=np.load(\"../cloob-vit-b-16/cloob_laion_400m_vit_b_16_32_epochs_coco_train2017_image_embeds.npy\"),\n",
    "                      text_embeds=np.load(\"../cloob-vit-b-16/cloob_laion_400m_vit_b_16_32_epochs_coco_train2017_text_embeds.npy\"))\n",
    "\n",
    "cloob_vit_l_14 = dict(img_embeds=np.load(\"./cloob-vit-l-14-168_image_embeds.npy\"),\n",
    "                      text_embeds=np.load(\"./cloob-vit-l-14-168_text_embeds.npy\"))\n",
    "\n",
    "ml_jku_cloob_infoNCE = dict(img_embeds=np.load(\"../ml_jku_cloob_embeddings/cloob_infoNCE_rn50_cc_epoch_128_image_embeds.npy\"),\n",
    "                            text_embeds=np.load(\"../ml_jku_cloob_embeddings/cloob_infoNCE_rn50_cc_epoch_128_text_embeds.npy\"))\n",
    "\n",
    "ml_jku_clip_rn50 = dict(img_embeds=np.load(\"../ml_jku_cloob_embeddings/clip30_rn50_cc_epoch_128_image_embeds.npy\"),\n",
    "                        text_embeds=np.load(\"../ml_jku_cloob_embeddings/clip30_rn50_cc_epoch_128_text_embeds.npy\"))\n",
    "\n",
    "ml_jku_clip_infoLOOB = dict(img_embeds=np.load(\"../ml_jku_cloob_embeddings/clip_infoLOOB_rn50_cc_epoch_128_image_embeds.npy\"),\n",
    "                            text_embeds=np.load(\"../ml_jku_cloob_embeddings/clip_infoLOOB_rn50_cc_epoch_128_text_embeds.npy\"))\n",
    "\n",
    "ml_jku_cloob_rn50 = dict(img_embeds=np.load(\"../ml_jku_cloob_embeddings/cloob_rn50_cc_epoch_128_image_embeds.npy\"),\n",
    "                         text_embeds=np.load(\"../ml_jku_cloob_embeddings/cloob_rn50_cc_epoch_128_text_embeds.npy\"))\n",
    "\n",
    "models = [(cloob_vit_l_14, \"CLOOB ViT-L/14\"),\n",
    "                     # (blip, \"BLIP\"),\n",
    "  # (blip_large, \"BLIP Large\"),\n",
    "                     (clip_vit_b_32, \"CLIP ViT-B/32\"),\n",
    "                     (clip_vit_b_16, \"CLIP ViT-B/16\"),\n",
    "                     (clip_vit_l_14, \"CLIP ViT-L/14\"),\n",
    "                     (cloob_vit_b_16, \"CLOOB ViT-B/16\"),\n",
    "                     (ml_jku_cloob_infoNCE, \"CLOOB infoNCE RN50\"),\n",
    "                     (ml_jku_clip_rn50, \"CLIP RN50\"),\n",
    "                     (ml_jku_clip_infoLOOB, \"CLIP infoLOOB RN50\"),\n",
    "                     (ml_jku_cloob_rn50, \"CLOOB RN50\")]"
   ]
  },
  {
   "cell_type": "code",
   "execution_count": null,
   "id": "bb13ccd8",
   "metadata": {},
   "outputs": [
    {
     "name": "stderr",
     "output_type": "stream",
     "text": [
      " 89%|██████████████████████████████████████████████████████████████████████████████████████▏          | 8/9 [01:44<00:17, 17.97s/it]"
     ]
    }
   ],
   "source": [
    "\n",
    "def projected_dist(img_embed, text_embed):\n",
    "\n",
    "    X = np.concatenate([img_embed, text_embed])\n",
    "    y = np.concatenate([np.zeros(len(img_embed)), np.ones(len(text_embed))])\n",
    "    xm, xstd = X.mean(axis=0), X.std(axis=0)\n",
    "    \n",
    "    svm = sklearn.svm.LinearSVC()\n",
    "    svm.fit(X, y)\n",
    "    \n",
    "    \n",
    "    w_norm = np.linalg.norm(svm.coef_)\n",
    "    hyperplane_normal = svm.coef_ / w_norm\n",
    "    projected = X - ((svm.decision_function(X)[:, None] / w_norm) - svm.intercept_) * hyperplane_normal\n",
    "\n",
    "    projected_dist = np.linalg.norm(projected[:len(img_embed)] - projected[len(text_embed):], axis=-1)\n",
    "    return projected_dist.mean(), projected_dist.std()\n",
    "\n",
    "import seaborn\n",
    "from tqdm import tqdm\n",
    "import pandas\n",
    "\n",
    "results = pandas.DataFrame([\n",
    "    {\"name\": name, \"projected_dist\": projected_dist(model[\"img_embeds\"], model[\"text_embeds\"])[0] }\n",
    "    for model, name in tqdm(models)\n",
    "])\n",
    "\n"
   ]
  },
  {
   "cell_type": "code",
   "execution_count": null,
   "id": "c01303f8",
   "metadata": {},
   "outputs": [],
   "source": [
    "plt.figure(figsize=(20, 5))\n",
    "seaborn.barplot(data=results, x=\"name\", y=\"projected_dist\")"
   ]
  },
  {
   "cell_type": "code",
   "execution_count": 12,
   "id": "05ad452d",
   "metadata": {},
   "outputs": [
    {
     "name": "stderr",
     "output_type": "stream",
     "text": [
      "100%|█████████████████████████████████████████████████████████████████████████████████████████████████| 9/9 [02:15<00:00, 15.05s/it]\n"
     ]
    },
    {
     "data": {
      "text/plain": [
       "<AxesSubplot:xlabel='name', ylabel='projected_dist'>"
      ]
     },
     "execution_count": 12,
     "metadata": {},
     "output_type": "execute_result"
    },
    {
     "data": {
      "image/png": "[encoded data removed]",
      "text/plain": [
       "<Figure size 1440x360 with 1 Axes>"
      ]
     },
     "metadata": {
      "needs_background": "light"
     },
     "output_type": "display_data"
    }
   ],
   "source": [
    "def projected_dist(img_embed, text_embed):\n",
    "\n",
    "    X = np.concatenate([img_embed, text_embed])\n",
    "    y = np.concatenate([np.zeros(len(img_embed)), np.ones(len(text_embed))])\n",
    "    xm, xstd = X.mean(axis=0), X.std(axis=0)\n",
    "    \n",
    "    svm = sklearn.svm.LinearSVC()\n",
    "    svm.fit(X, y)\n",
    "    \n",
    "    \n",
    "    w_norm = np.linalg.norm(svm.coef_)\n",
    "    hyperplane_normal = svm.coef_ / w_norm\n",
    "    projected = ((X - xm) / xstd) - ((svm.decision_function(X)[:, None] / w_norm) - svm.intercept_) * hyperplane_normal\n",
    "\n",
    "    projected_dist = np.linalg.norm(projected[:len(img_embed)] - projected[len(text_embed):], axis=-1)\n",
    "    return projected_dist.mean(), projected_dist.std()\n",
    "\n",
    "import seaborn\n",
    "from tqdm import tqdm\n",
    "import pandas\n",
    "\n",
    "results = pandas.DataFrame([\n",
    "    {\"name\": name, \"projected_dist\": projected_dist(model[\"img_embeds\"], model[\"text_embeds\"])[0] }\n",
    "    for model, name in tqdm(models)\n",
    "])\n",
    "\n",
    "plt.figure(figsize=(20, 5))\n",
    "seaborn.barplot(data=results, x=\"name\", y=\"projected_dist\")"
   ]
  },
  {
   "cell_type": "code",
   "execution_count": null,
   "id": "8641fa94",
   "metadata": {},
   "outputs": [],
   "source": []
  }
 ],
 "metadata": {
  "kernelspec": {
   "display_name": "Python 3 (ipykernel)",
   "language": "python",
   "name": "python3"
  },
  "language_info": {
   "codemirror_mode": {
    "name": "ipython",
    "version": 3
   },
   "file_extension": ".py",
   "mimetype": "text/x-python",
   "name": "python",
   "nbconvert_exporter": "python",
   "pygments_lexer": "ipython3",
   "version": "3.9.10"
  }
 },
 "nbformat": 4,
 "nbformat_minor": 5
}
