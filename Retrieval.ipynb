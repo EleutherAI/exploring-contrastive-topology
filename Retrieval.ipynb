{
 "cells": [
  {
   "cell_type": "code",
   "execution_count": 1,
   "id": "b9e53170",
   "metadata": {},
   "outputs": [],
   "source": [
    "from faiss import IndexFlatIP, IndexFlat\n",
    "import numpy as np\n",
    "from sklearn.decomposition import PCA\n",
    "import matplotlib.pyplot as plt\n",
    "import seaborn\n",
    "import tqdm\n",
    "import pandas"
   ]
  },
  {
   "cell_type": "code",
   "execution_count": 2,
   "id": "521caecd-c6a3-4b14-85a1-8cc69982b7f5",
   "metadata": {},
   "outputs": [
    {
     "name": "stdout",
     "output_type": "stream",
     "text": [
      "Collecting git+https://github.com/cat-state/clip_benchmark\n",
      "  Cloning https://github.com/cat-state/clip_benchmark to /tmp/pip-req-build-hno8lnh9\n",
      "  Running command git clone --filter=blob:none --quiet https://github.com/cat-state/clip_benchmark /tmp/pip-req-build-hno8lnh9\n",
      "  Resolved https://github.com/cat-state/clip_benchmark to commit 0e9180ad09e1e96d55d75ef30d11c08e98122219\n",
      "  Preparing metadata (setup.py) ... \u001b[?25ldone\n",
      "\u001b[?25h"
     ]
    }
   ],
   "source": [
    "!pip install git+https://github.com/cat-state/clip_benchmark"
   ]
  },
  {
   "cell_type": "code",
   "execution_count": 3,
   "id": "a8c58b2c-eb09-4fa7-9799-d952e31c2723",
   "metadata": {},
   "outputs": [
    {
     "name": "stdout",
     "output_type": "stream",
     "text": [
      "Updated Git hooks.\n",
      "Git LFS initialized.\n",
      "fatal: destination path 'clip-embeddings' already exists and is not an empty directory.\n"
     ]
    }
   ],
   "source": [
    "!git lfs install\n",
    "!git clone https://huggingface.co/datasets/cat-state/clip-embeddings || true"
   ]
  },
  {
   "cell_type": "code",
   "execution_count": 15,
   "id": "81db0989",
   "metadata": {},
   "outputs": [],
   "source": [
    "# The following models form two sets of comparable models. The big models are trained on LAION-400M and the small models are trained on ????.\n",
    "# All models are evaluated on MS COCO\n",
    "\n",
    "models = {\n",
    "    \"CLIP_big\": {\n",
    "        \"name\": \"CLIP ViT-B/16\",\n",
    "        \"img_embeds\": np.lib.format.open_memmap(\n",
    "            \"clip-embeddings/coco-embeds-open-clip-vit-b-16/img_emb/img_emb_0.npy\"\n",
    "        ),\n",
    "        \"text_embeds\": np.lib.format.open_memmap(\n",
    "            \"clip-embeddings/coco-embeds-open-clip-vit-b-16/text_emb/text_emb_0.npy\"\n",
    "        ),\n",
    "    },\n",
    "    \"CLOOB_big\": {\n",
    "        \"name\": \"CLOOB ViT-B/16\",\n",
    "        \"img_embeds\": np.lib.format.open_memmap(\n",
    "            \"clip-embeddings/cloob-vit-b-16/cloob_laion_400m_vit_b_16_32_epochs_coco_train2017_image_embeds.npy\"\n",
    "        ),\n",
    "        \"text_embeds\": np.lib.format.open_memmap(\n",
    "            \"clip-embeddings/cloob-vit-b-16/cloob_laion_400m_vit_b_16_32_epochs_coco_train2017_text_embeds.npy\"\n",
    "        ),\n",
    "    },\n",
    "    \"CLIP_big_laion\": {\n",
    "        \"name\": \"CLIP ViT-B/16 evaluated on LAION\",\n",
    "        \"img_embeds\": np.lib.format.open_memmap(\n",
    "            \"clip-embeddings/laion-embeds-open-clip-vit-b-16/img_emb/img_emb_0.npy\"\n",
    "        ),\n",
    "        \"text_embeds\": np.lib.format.open_memmap(\n",
    "            \"clip-embeddings/laion-embeds-open-clip-vit-b-16/text_emb/text_emb_0.npy\"\n",
    "        ),\n",
    "\n",
    "    },\n",
    "    \"CLOOB_big_laion\": {\n",
    "        \"name\": \"CLOOB ViT-B/16 evaluated on LAION\",\n",
    "        \"img_embeds\": np.lib.format.open_memmap(\n",
    "            \"laion-embeds-cloob-vit-b-16/cloob_laion_400m_vit_b_16_32_epochs_laion2B-en-5k_image_embeds.npy\"\n",
    "        ),\n",
    "        \"text_embeds\": np.lib.format.open_memmap(\n",
    "            \"laion-embeds-cloob-vit-b-16/cloob_laion_400m_vit_b_16_32_epochs_laion2B-en-5k_text_embeds.npy\"\n",
    "        ),\n",
    "\n",
    "    },\n",
    "    \"CLIP_small_infoNCE\": {\n",
    "        \"name\": \"CLIP RN50\",\n",
    "        \"img_embeds\": np.lib.format.open_memmap(\n",
    "            \"clip-embeddings/ml_jku_cloob_embeddings/clip30_rn50_cc_epoch_128_image_embeds.npy\"\n",
    "        ),\n",
    "        \"text_embeds\": np.lib.format.open_memmap(\n",
    "            \"clip-embeddings/ml_jku_cloob_embeddings/clip30_rn50_cc_epoch_128_text_embeds.npy\"\n",
    "        ),\n",
    "    },\n",
    "    \"CLIP_small_infoLOOB\": {\n",
    "        \"name\": \"CLIP RN50 (infoLOOB)\",\n",
    "        \"img_embeds\": np.lib.format.open_memmap(\n",
    "            \"clip-embeddings/ml_jku_cloob_embeddings/clip_infoLOOB_rn50_cc_epoch_128_image_embeds.npy\"\n",
    "        ),\n",
    "        \"text_embeds\": np.lib.format.open_memmap(\n",
    "            \"clip-embeddings/ml_jku_cloob_embeddings/clip_infoLOOB_rn50_cc_epoch_128_text_embeds.npy\"\n",
    "        ),\n",
    "    },\n",
    "    \"CLOOB_small_infoNCE\": {\n",
    "        \"name\": \"CLOOB RN50 (infoNCE)\",\n",
    "        \"img_embeds\": np.lib.format.open_memmap(\n",
    "            \"clip-embeddings/ml_jku_cloob_embeddings/cloob_infoNCE_rn50_cc_epoch_128_image_embeds.npy\"\n",
    "        ),\n",
    "        \"text_embeds\": np.lib.format.open_memmap(\n",
    "            \"clip-embeddings/ml_jku_cloob_embeddings/cloob_infoNCE_rn50_cc_epoch_128_text_embeds.npy\"\n",
    "        ),\n",
    "    },\n",
    "    \"CLOOB_small_infoLOOB\": {\n",
    "        \"name\": \"CLOOB RN50 (infoLOOB)\",\n",
    "        \"img_embeds\": np.lib.format.open_memmap(\n",
    "            \"clip-embeddings/ml_jku_cloob_embeddings/cloob_rn50_cc_epoch_128_image_embeds.npy\"\n",
    "        ),\n",
    "        \"text_embeds\": np.lib.format.open_memmap(\n",
    "            \"clip-embeddings/ml_jku_cloob_embeddings/cloob_rn50_cc_epoch_128_text_embeds.npy\"\n",
    "        ),\n",
    "    },\n",
    "}"
   ]
  },
  {
   "cell_type": "code",
   "execution_count": 16,
   "id": "9a363e17",
   "metadata": {},
   "outputs": [],
   "source": [
    "from clip_benchmark import cross_modal_retrieval"
   ]
  },
  {
   "cell_type": "code",
   "execution_count": 17,
   "id": "53798c59",
   "metadata": {},
   "outputs": [
    {
     "name": "stderr",
     "output_type": "stream",
     "text": [
      "100%|███████████████████████████████████████████████████████████████████████████████████████████████████████████████████████████████████████████████| 8/8 [00:16<00:00,  2.02s/it]\n"
     ]
    }
   ],
   "source": [
    "import pandas\n",
    "\n",
    "subset = 5000\n",
    "\n",
    "results = []\n",
    "for key, embeds in tqdm.tqdm(models.items()):\n",
    "    img_embeds = embeds[\"img_embeds\"][:subset]\n",
    "    txt_embeds = embeds[\"text_embeds\"][:subset]\n",
    "    results.append({**cross_modal_retrieval(img_embeds, txt_embeds), \"name\": embeds[\"name\"]})\n",
    "\n",
    "results = pandas.DataFrame(results)"
   ]
  },
  {
   "cell_type": "code",
   "execution_count": 26,
   "id": "c7b5b435-e8ff-438e-bc26-c1e69c00cc6b",
   "metadata": {},
   "outputs": [],
   "source": [
    "results[\"text to img @1\"] = results[\"text->img\"].apply(lambda x: x[:, 0].sum() / subset)\n",
    "results[\"img to text @1\"] = results[\"img->text\"].apply(lambda x: x[:, 0].sum() / subset)\n",
    "results[\"text to img @5\"] = results[\"text->img\"].apply(lambda x: x[:, :5].any(-1).sum() / subset)\n",
    "results[\"img to text @5\"] = results[\"img->text\"].apply(lambda x: x[:, :5].any(-1).sum() / subset)"
   ]
  },
  {
   "cell_type": "code",
   "execution_count": 27,
   "id": "afc4b8c1-0cea-4d91-9e13-363b973ed5f3",
   "metadata": {},
   "outputs": [],
   "source": [
    "from matplotlib import rc\n",
    "\n",
    "rc('font', **{'family': 'serif', 'serif': ['Computer Modern']})\n",
    "rc('text', usetex=True)"
   ]
  },
  {
   "cell_type": "code",
   "execution_count": 28,
   "id": "b7480a28",
   "metadata": {},
   "outputs": [
    {
     "data": {
      "image/png": "[encoded data removed]",
      "text/plain": [
       "<Figure size 1440x360 with 1 Axes>"
      ]
     },
     "metadata": {},
     "output_type": "display_data"
    },
    {
     "data": {
      "image/png": "[encoded data removed]",
      "text/plain": [
       "<Figure size 1440x360 with 1 Axes>"
      ]
     },
     "metadata": {},
     "output_type": "display_data"
    }
   ],
   "source": [
    "plt.figure(figsize=(20, 5), facecolor=\"white\")\n",
    "seaborn.barplot(data=results, x=\"name\", y=\"text to img @1\")\n",
    "plt.savefig(\"figures/text->img retrieval @1.png\")\n",
    "plt.show()\n",
    "plt.figure(figsize=(20, 5), facecolor=\"white\")\n",
    "seaborn.barplot(data=results, x=\"name\", y=\"img to text @1\")\n",
    "plt.savefig(\"figures/img->text retrieval @1.png\")\n"
   ]
  },
  {
   "cell_type": "code",
   "execution_count": 29,
   "id": "74c9a6e9",
   "metadata": {},
   "outputs": [
    {
     "data": {
      "image/png": "[encoded data removed]",
      "text/plain": [
       "<Figure size 1440x360 with 1 Axes>"
      ]
     },
     "metadata": {},
     "output_type": "display_data"
    },
    {
     "data": {
      "image/png": "[encoded data removed]",
      "text/plain": [
       "<Figure size 1440x360 with 1 Axes>"
      ]
     },
     "metadata": {},
     "output_type": "display_data"
    }
   ],
   "source": [
    "plt.figure(figsize=(20, 5), facecolor=\"white\")\n",
    "seaborn.barplot(data=results, x=\"name\", y=\"text to img @5\")\n",
    "plt.savefig(\"figures/text->img retrieval @5.png\")\n",
    "plt.show()\n",
    "plt.figure(figsize=(20, 5), facecolor=\"white\")\n",
    "seaborn.barplot(data=results, x=\"name\", y=\"img to text @5\")\n",
    "plt.savefig(\"figures/img->text retrieval @5.png\")\n"
   ]
  },
  {
   "cell_type": "code",
   "execution_count": 30,
   "id": "4e0d19d8-d084-4765-a413-fcfaf0765d22",
   "metadata": {},
   "outputs": [
    {
     "data": {
      "text/html": [
       "<div>\n",
       "<style scoped>\n",
       "    .dataframe tbody tr th:only-of-type {\n",
       "        vertical-align: middle;\n",
       "    }\n",
       "\n",
       "    .dataframe tbody tr th {\n",
       "        vertical-align: top;\n",
       "    }\n",
       "\n",
       "    .dataframe thead th {\n",
       "        text-align: right;\n",
       "    }\n",
       "</style>\n",
       "<table border=\"1\" class=\"dataframe\">\n",
       "  <thead>\n",
       "    <tr style=\"text-align: right;\">\n",
       "      <th></th>\n",
       "      <th>name</th>\n",
       "      <th>text to img @1</th>\n",
       "      <th>img to text @1</th>\n",
       "      <th>text to img @5</th>\n",
       "      <th>img to text @5</th>\n",
       "    </tr>\n",
       "  </thead>\n",
       "  <tbody>\n",
       "    <tr>\n",
       "      <th>0</th>\n",
       "      <td>CLIP ViT-B/16</td>\n",
       "      <td>0.3712</td>\n",
       "      <td>0.3872</td>\n",
       "      <td>0.6350</td>\n",
       "      <td>0.6534</td>\n",
       "    </tr>\n",
       "    <tr>\n",
       "      <th>1</th>\n",
       "      <td>CLOOB ViT-B/16</td>\n",
       "      <td>0.2964</td>\n",
       "      <td>0.3102</td>\n",
       "      <td>0.5400</td>\n",
       "      <td>0.5682</td>\n",
       "    </tr>\n",
       "    <tr>\n",
       "      <th>2</th>\n",
       "      <td>CLIP ViT-B/16 evaluated on LAION</td>\n",
       "      <td>0.9526</td>\n",
       "      <td>0.9472</td>\n",
       "      <td>0.9868</td>\n",
       "      <td>0.9836</td>\n",
       "    </tr>\n",
       "    <tr>\n",
       "      <th>3</th>\n",
       "      <td>CLOOB ViT-B/16 evaluated on LAION</td>\n",
       "      <td>0.8888</td>\n",
       "      <td>0.8714</td>\n",
       "      <td>0.9528</td>\n",
       "      <td>0.9500</td>\n",
       "    </tr>\n",
       "    <tr>\n",
       "      <th>4</th>\n",
       "      <td>CLIP RN50</td>\n",
       "      <td>0.1780</td>\n",
       "      <td>0.1654</td>\n",
       "      <td>0.3806</td>\n",
       "      <td>0.3718</td>\n",
       "    </tr>\n",
       "    <tr>\n",
       "      <th>5</th>\n",
       "      <td>CLIP RN50 (infoLOOB)</td>\n",
       "      <td>0.1042</td>\n",
       "      <td>0.1006</td>\n",
       "      <td>0.2758</td>\n",
       "      <td>0.2542</td>\n",
       "    </tr>\n",
       "    <tr>\n",
       "      <th>6</th>\n",
       "      <td>CLOOB RN50 (infoNCE)</td>\n",
       "      <td>0.1458</td>\n",
       "      <td>0.1456</td>\n",
       "      <td>0.3476</td>\n",
       "      <td>0.3368</td>\n",
       "    </tr>\n",
       "    <tr>\n",
       "      <th>7</th>\n",
       "      <td>CLOOB RN50 (infoLOOB)</td>\n",
       "      <td>0.1604</td>\n",
       "      <td>0.1490</td>\n",
       "      <td>0.3742</td>\n",
       "      <td>0.3420</td>\n",
       "    </tr>\n",
       "  </tbody>\n",
       "</table>\n",
       "</div>"
      ],
      "text/plain": [
       "                                name  text to img @1  img to text @1  \\\n",
       "0                      CLIP ViT-B/16          0.3712          0.3872   \n",
       "1                     CLOOB ViT-B/16          0.2964          0.3102   \n",
       "2   CLIP ViT-B/16 evaluated on LAION          0.9526          0.9472   \n",
       "3  CLOOB ViT-B/16 evaluated on LAION          0.8888          0.8714   \n",
       "4                          CLIP RN50          0.1780          0.1654   \n",
       "5               CLIP RN50 (infoLOOB)          0.1042          0.1006   \n",
       "6               CLOOB RN50 (infoNCE)          0.1458          0.1456   \n",
       "7              CLOOB RN50 (infoLOOB)          0.1604          0.1490   \n",
       "\n",
       "   text to img @5  img to text @5  \n",
       "0          0.6350          0.6534  \n",
       "1          0.5400          0.5682  \n",
       "2          0.9868          0.9836  \n",
       "3          0.9528          0.9500  \n",
       "4          0.3806          0.3718  \n",
       "5          0.2758          0.2542  \n",
       "6          0.3476          0.3368  \n",
       "7          0.3742          0.3420  "
      ]
     },
     "execution_count": 30,
     "metadata": {},
     "output_type": "execute_result"
    }
   ],
   "source": [
    "results[[\"name\", \"text to img @1\", \"img to text @1\", \"text to img @5\", \"img to text @5\"]]"
   ]
  },
  {
   "cell_type": "code",
   "execution_count": null,
   "id": "15700a83-b460-46b7-b2fb-82200535db9f",
   "metadata": {},
   "outputs": [],
   "source": []
  }
 ],
 "metadata": {
  "kernelspec": {
   "display_name": "Python 3 (ipykernel)",
   "language": "python",
   "name": "python3"
  },
  "language_info": {
   "codemirror_mode": {
    "name": "ipython",
    "version": 3
   },
   "file_extension": ".py",
   "mimetype": "text/x-python",
   "name": "python",
   "nbconvert_exporter": "python",
   "pygments_lexer": "ipython3",
   "version": "3.9.10"
  }
 },
 "nbformat": 4,
 "nbformat_minor": 5
}
