{
 "cells": [
  {
   "cell_type": "code",
   "execution_count": 1,
   "id": "b9e53170",
   "metadata": {},
   "outputs": [],
   "source": [
    "from faiss import IndexFlatIP\n",
    "import numpy as np\n"
   ]
  },
  {
   "cell_type": "code",
   "execution_count": 2,
   "id": "81db0989",
   "metadata": {},
   "outputs": [],
   "source": [
    "clip = dict(img_embeds=np.load(\"../coco_train2017_image_embeds.npy\"),\n",
    "            text_embeds=np.load(\"../coco_train2017_text_embeds.npy\"))\n",
    "\n",
    "cloob = dict(img_embeds=np.load(\"../cloob-vit-b-16/cloob_laion_400m_vit_b_16_32_epochs_coco_train2017_image_embeds.npy\"),\n",
    "             text_embeds=np.load(\"../cloob-vit-b-16/cloob_laion_400m_vit_b_16_32_epochs_coco_train2017_text_embeds.npy\"))\n",
    "\n"
   ]
  },
  {
   "cell_type": "code",
   "execution_count": 3,
   "id": "9a363e17",
   "metadata": {},
   "outputs": [
    {
     "name": "stdout",
     "output_type": "stream",
     "text": [
      "text->img retrieval @1 0.0698\n",
      "img->text retrieval @1 0.09028\n",
      "text->img retrieval @5 0.17204\n",
      "img->text retrieval @5 0.2051\n"
     ]
    }
   ],
   "source": [
    "def retrieval(img_embeds, text_embeds, subset_n=50000, top_k=5):\n",
    "    img_embeds = img_embeds[:subset_n]\n",
    "    text_embeds = text_embeds[:subset_n]\n",
    "    \n",
    "    n, channels = img_embeds.shape\n",
    "    \n",
    "    img_index = IndexFlatIP(channels)\n",
    "    img_index.add(img_embeds)\n",
    "    \n",
    "    text_index = IndexFlatIP(channels)\n",
    "    text_index.add(text_embeds)\n",
    "    \n",
    "    ground_truth = np.arange(n)\n",
    "    \n",
    "    img_dists, img_idxs = img_index.search(text_embeds, top_k)\n",
    "    text_dists, text_idxs = text_index.search(img_embeds, top_k)\n",
    "    \n",
    "    print(\"text->img retrieval @1\", (img_idxs[:, 0] == ground_truth).sum() / n)\n",
    "    print(\"img->text retrieval @1\", (text_idxs[:, 0] == ground_truth).sum() / n)\n",
    "\n",
    "    print(f\"text->img retrieval @{top_k}\", (img_idxs == ground_truth[:, None]).any(1).sum() / n)\n",
    "    print(f\"img->text retrieval @{top_k}\", (text_idxs == ground_truth[:, None]).any(1).sum() / n)\n",
    "    \n",
    "\n",
    "retrieval(**clip)"
   ]
  },
  {
   "cell_type": "code",
   "execution_count": 4,
   "id": "9c5316f3",
   "metadata": {},
   "outputs": [
    {
     "name": "stdout",
     "output_type": "stream",
     "text": [
      "text->img retrieval @1 0.12238\n",
      "img->text retrieval @1 0.1298\n",
      "text->img retrieval @5 0.2573\n",
      "img->text retrieval @5 0.27536\n"
     ]
    }
   ],
   "source": [
    "retrieval(**cloob)"
   ]
  },
  {
   "cell_type": "code",
   "execution_count": null,
   "id": "7f28e878",
   "metadata": {},
   "outputs": [],
   "source": []
  }
 ],
 "metadata": {
  "kernelspec": {
   "display_name": "Python 3 (ipykernel)",
   "language": "python",
   "name": "python3"
  },
  "language_info": {
   "codemirror_mode": {
    "name": "ipython",
    "version": 3
   },
   "file_extension": ".py",
   "mimetype": "text/x-python",
   "name": "python",
   "nbconvert_exporter": "python",
   "pygments_lexer": "ipython3",
   "version": "3.9.10"
  }
 },
 "nbformat": 4,
 "nbformat_minor": 5
}
